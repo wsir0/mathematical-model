{
 "cells": [
  {
   "cell_type": "code",
   "execution_count": 59,
   "metadata": {
    "collapsed": true
   },
   "outputs": [
    {
     "data": {
      "text/plain": "  OrderNo GroupNo  WorkerNo TaskNo\n0   D0674       1         1  D0674\n1   D0601       2         1  D0601\n2   D0613       2         2  D0613\n3   D0912       3         1  D0912\n4   D0747       3         2  D0747\n5   D0726       4         1  D0726\n6   D0630       4         2  D0630\n7   D0352       5         1  D0352\n8   D0630       1         1  D0630\n9   D0747       1         2  D0747",
      "text/html": "<div>\n<style scoped>\n    .dataframe tbody tr th:only-of-type {\n        vertical-align: middle;\n    }\n\n    .dataframe tbody tr th {\n        vertical-align: top;\n    }\n\n    .dataframe thead th {\n        text-align: right;\n    }\n</style>\n<table border=\"1\" class=\"dataframe\">\n  <thead>\n    <tr style=\"text-align: right;\">\n      <th></th>\n      <th>OrderNo</th>\n      <th>GroupNo</th>\n      <th>WorkerNo</th>\n      <th>TaskNo</th>\n    </tr>\n  </thead>\n  <tbody>\n    <tr>\n      <th>0</th>\n      <td>D0674</td>\n      <td>1</td>\n      <td>1</td>\n      <td>D0674</td>\n    </tr>\n    <tr>\n      <th>1</th>\n      <td>D0601</td>\n      <td>2</td>\n      <td>1</td>\n      <td>D0601</td>\n    </tr>\n    <tr>\n      <th>2</th>\n      <td>D0613</td>\n      <td>2</td>\n      <td>2</td>\n      <td>D0613</td>\n    </tr>\n    <tr>\n      <th>3</th>\n      <td>D0912</td>\n      <td>3</td>\n      <td>1</td>\n      <td>D0912</td>\n    </tr>\n    <tr>\n      <th>4</th>\n      <td>D0747</td>\n      <td>3</td>\n      <td>2</td>\n      <td>D0747</td>\n    </tr>\n    <tr>\n      <th>5</th>\n      <td>D0726</td>\n      <td>4</td>\n      <td>1</td>\n      <td>D0726</td>\n    </tr>\n    <tr>\n      <th>6</th>\n      <td>D0630</td>\n      <td>4</td>\n      <td>2</td>\n      <td>D0630</td>\n    </tr>\n    <tr>\n      <th>7</th>\n      <td>D0352</td>\n      <td>5</td>\n      <td>1</td>\n      <td>D0352</td>\n    </tr>\n    <tr>\n      <th>8</th>\n      <td>D0630</td>\n      <td>1</td>\n      <td>1</td>\n      <td>D0630</td>\n    </tr>\n    <tr>\n      <th>9</th>\n      <td>D0747</td>\n      <td>1</td>\n      <td>2</td>\n      <td>D0747</td>\n    </tr>\n  </tbody>\n</table>\n</div>"
     },
     "execution_count": 59,
     "metadata": {},
     "output_type": "execute_result"
    }
   ],
   "source": [
    "import pandas as pd\n",
    "import warnings\n",
    "\n",
    "warnings.filterwarnings('ignore')\n",
    "d = {}\n",
    "\n",
    "l1, l2, l3, l4 = [], [], [], []\n",
    "ls = []\n",
    "with open('result4.txt', 'r') as f:\n",
    "    lines = f.readlines()\n",
    "for line in lines:\n",
    "    line = line.strip().split()\n",
    "    line[2] = line[2].split(',')\n",
    "\n",
    "    ls.append(line[0])\n",
    "    for i in range(len(line[2])):\n",
    "        l1.append(line[0])\n",
    "        l2.append(line[1])\n",
    "        l3.append(i + 1)\n",
    "        l4.append(line[2][i])\n",
    "da = pd.DataFrame({'OrderNo': l4, 'GroupNo':l2, 'WorkerNo':l3, 'TaskNo':l4})\n",
    "da.head(10)\n"
   ]
  },
  {
   "cell_type": "code",
   "execution_count": 34,
   "outputs": [
    {
     "data": {
      "text/plain": "    OrderNo  GroupNo  WorkerNo TaskNo\n843   D0026        1         5  D0026\n873   D0026        3         1  D0026\n845   D0096        1         7  D0096\n687   D0096        2         3  D0096\n713   D0096        3         1  D0096\n..      ...      ...       ...    ...\n336   D0912        5         3  D0912\n467   D0912        5         3  D0912\n502   D0912        5         5  D0912\n604   D0912        5         5  D0912\n892   D0912        5         5  D0912\n\n[894 rows x 4 columns]",
      "text/html": "<div>\n<style scoped>\n    .dataframe tbody tr th:only-of-type {\n        vertical-align: middle;\n    }\n\n    .dataframe tbody tr th {\n        vertical-align: top;\n    }\n\n    .dataframe thead th {\n        text-align: right;\n    }\n</style>\n<table border=\"1\" class=\"dataframe\">\n  <thead>\n    <tr style=\"text-align: right;\">\n      <th></th>\n      <th>OrderNo</th>\n      <th>GroupNo</th>\n      <th>WorkerNo</th>\n      <th>TaskNo</th>\n    </tr>\n  </thead>\n  <tbody>\n    <tr>\n      <th>843</th>\n      <td>D0026</td>\n      <td>1</td>\n      <td>5</td>\n      <td>D0026</td>\n    </tr>\n    <tr>\n      <th>873</th>\n      <td>D0026</td>\n      <td>3</td>\n      <td>1</td>\n      <td>D0026</td>\n    </tr>\n    <tr>\n      <th>845</th>\n      <td>D0096</td>\n      <td>1</td>\n      <td>7</td>\n      <td>D0096</td>\n    </tr>\n    <tr>\n      <th>687</th>\n      <td>D0096</td>\n      <td>2</td>\n      <td>3</td>\n      <td>D0096</td>\n    </tr>\n    <tr>\n      <th>713</th>\n      <td>D0096</td>\n      <td>3</td>\n      <td>1</td>\n      <td>D0096</td>\n    </tr>\n    <tr>\n      <th>...</th>\n      <td>...</td>\n      <td>...</td>\n      <td>...</td>\n      <td>...</td>\n    </tr>\n    <tr>\n      <th>336</th>\n      <td>D0912</td>\n      <td>5</td>\n      <td>3</td>\n      <td>D0912</td>\n    </tr>\n    <tr>\n      <th>467</th>\n      <td>D0912</td>\n      <td>5</td>\n      <td>3</td>\n      <td>D0912</td>\n    </tr>\n    <tr>\n      <th>502</th>\n      <td>D0912</td>\n      <td>5</td>\n      <td>5</td>\n      <td>D0912</td>\n    </tr>\n    <tr>\n      <th>604</th>\n      <td>D0912</td>\n      <td>5</td>\n      <td>5</td>\n      <td>D0912</td>\n    </tr>\n    <tr>\n      <th>892</th>\n      <td>D0912</td>\n      <td>5</td>\n      <td>5</td>\n      <td>D0912</td>\n    </tr>\n  </tbody>\n</table>\n<p>894 rows × 4 columns</p>\n</div>"
     },
     "execution_count": 34,
     "metadata": {},
     "output_type": "execute_result"
    }
   ],
   "source": [
    "da['GroupNo'] = da['GroupNo'].astype(int)\n",
    "da['WorkerNo'] = da['WorkerNo'].astype(int)\n",
    "da = da.sort_values(by=['OrderNo','GroupNo','WorkerNo'],ascending=True)\n",
    "da"
   ],
   "metadata": {
    "collapsed": false,
    "pycharm": {
     "name": "#%%\n"
    }
   }
  },
  {
   "cell_type": "code",
   "execution_count": null,
   "outputs": [],
   "source": [
    "da.to_csv('result3.csv',index=None)\n"
   ],
   "metadata": {
    "collapsed": false,
    "pycharm": {
     "name": "#%%\n"
    }
   }
  },
  {
   "cell_type": "code",
   "execution_count": 40,
   "outputs": [
    {
     "name": "stdout",
     "output_type": "stream",
     "text": [
      "['D0912', 'D0601', 'D0630', 'D0352', 'D0613', 'D0747', 'D0674', 'D0726', 'D0497', 'D0776', 'D0337', 'D0903', 'D0423', 'D0581', 'D0294', 'D0391', 'D0539', 'D0384', 'D0496', 'D0312', 'D0246', 'D0096', 'D0148', 'D0614', 'D0126', 'D0026', 'D0212', 'D0243', 'D0882', 'D0771', 'D0486', 'D0413', 'D0320', 'D0498', 'D0670', 'D0474', 'D0401', 'D0572', 'D0198', 'D0505', 'D0591', 'D0825', 'D0612', 'D0433', 'D0540', 'D0550', 'D0468', 'D0306', 'D0409', 'D0399', 'D0190', 'D0318', 'D0110', 'D0092', 'D0091', 'D0459', 'D0480', 'D0680', 'D0482', 'D0846', 'D0551', 'D0562', 'D0679', 'D0880', 'D0690', 'D0728', 'D0841', 'D0541', 'D0900', 'D0435', 'D0893', 'D0432', 'D0477', 'D0565', 'D0470', 'D0429', 'D0647', 'D0031', 'D0188', 'D0003', 'D0583', 'D0115', 'D0180', 'D0809', 'D0204', 'D0134', 'D0114', 'D0175', 'D0002', 'D0164', 'D0225', 'D0149', 'D0145', 'D0800', 'D0494', 'D0852', 'D0315', 'D0781', 'D0430', 'D0223', 'D0406', 'D0113', 'D0628', 'D0525', 'D0464', 'D0080', 'D0329', 'D0865', 'D0029', 'D0245', 'D0205', 'D0279', 'D0458', 'D0719', 'D0744', 'D0625', 'D0561', 'D0623', 'D0349', 'D0197', 'D0553', 'D0504', 'D0079', 'D0277', 'D0059', 'D0479', 'D0070', 'D0283', 'D0416', 'D0599', 'D0755', 'D0621', 'D0896', 'D0737', 'D0252', 'D0801', 'D0618', 'D0731', 'D0093', 'D0229', 'D0237', 'D0006', 'D0260', 'D0851', 'D0894', 'D0210', 'D0830', 'D0741', 'D0189', 'D0220', 'D0792', 'D0397', 'D0386', 'D0227', 'D0767', 'D0194', 'D0019', 'D0043', 'D0460', 'D0481', 'D0678', 'D0147', 'D0475', 'D0899', 'D0340', 'D0171', 'D0271', 'D0192', 'D0651', 'D0133', 'D0042', 'D0142', 'D0166', 'D0049', 'D0891', 'D0878', 'D0302', 'D0208', 'D0034', 'D0544', 'D0118', 'D0249', 'D0060', 'D0845', 'D0187', 'D0039', 'D0017', 'D0137', 'D0607', 'D0324', 'D0199', 'D0063', 'D0446', 'D0363', 'D0339', 'D0909', 'D0804', 'D0417', 'D0718', 'D0325', 'D0759', 'D0528', 'D0518', 'D0517', 'D0821', 'D0094', 'D0754', 'D0632', 'D0400', 'D0660', 'D0407', 'D0919', 'D0512', 'D0499', 'D0131', 'D0061', 'D0566', 'D0392', 'D0633', 'D0913', 'D0595', 'D0376', 'D0706', 'D0555', 'D0211', 'D0838', 'D0100', 'D0653', 'D0299', 'D0054', 'D0345', 'D0280', 'D0146', 'D0824', 'D0332', 'D0434', 'D0370', 'D0248', 'D0454', 'D0529', 'D0703', 'D0244', 'D0420', 'D0254', 'D0195', 'D0262', 'D0514', 'D0168', 'D0542', 'D0036', 'D0130', 'D0178', 'D0035', 'D0143', 'D0125', 'D0388', 'D0524', 'D0472', 'D0516', 'D0483', 'D0631', 'D0574', 'D0177', 'D0140', 'D0078', 'D0810', 'D0365', 'D0620', 'D0508', 'D0749', 'D0323', 'D0461', 'D0062', 'D0622', 'D0751', 'D0261', 'D0609', 'D0085', 'D0119', 'D0414', 'D0456', 'D0774', 'D0462', 'D0761', 'D0901', 'D0319', 'D0545', 'D0453', 'D0639', 'D0577', 'D0691', 'D0476', 'D0357', 'D0701', 'D0837', 'D0626', 'D0785', 'D0826', 'D0619', 'D0753', 'D0727', 'D0269', 'D0141', 'D0597', 'D0328', 'D0849', 'D0823', 'D0436', 'D0153', 'D0231', 'D0084', 'D0209', 'D0224', 'D0158', 'D0101', 'D0570', 'D0797', 'D0697', 'D0598', 'D0696', 'D0176', 'D0136', 'D0860', 'D0037', 'D0818', 'D0154', 'D0828', 'D0760', 'D0743', 'D0654', 'D0183', 'D0106', 'D0403', 'D0616', 'D0443', 'D0784', 'D0536', 'D0906', 'D0764', 'D0490', 'D0174', 'D0580', 'D0089', 'D0466', 'D0375', 'D0890', 'D0646', 'D0348', 'D0868', 'D0513', 'D0861', 'D0426', 'D0218', 'D0840', 'D0128', 'D0010', 'D0016', 'D0217', 'D0488', 'D0537', 'D0077', 'D0734', 'D0155', 'D0877', 'D0820', 'D0281', 'D0221', 'D0783', 'D0717', 'D0445', 'D0650', 'D0637', 'D0411', 'D0124', 'D0548', 'D0708', 'D0303', 'D0356', 'D0355', 'D0769', 'D0589', 'D0117', 'D0415', 'D0469', 'D0235', 'D0534', 'D0789', 'D0739', 'D0173', 'D0730', 'D0811', 'D0775', 'D0578', 'D0011', 'D0787', 'D0914', 'D0758', 'D0282', 'D0033', 'D0617', 'D0532', 'D0258', 'D0412', 'D0596', 'D0573', 'D0251', 'D0270', 'D0266', 'D0232', 'D0766', 'D0402', 'D0644', 'D0066', 'D0219', 'D0713', 'D0051', 'D0419', 'D0547', 'D0203', 'D0600', 'D0554', 'D0478', 'D0700', 'D0905', 'D0848', 'D0640', 'D0431', 'D0374', 'D0915', 'D0881', 'D0241', 'D0206', 'D0023', 'D0874', 'D0301', 'D0372', 'D0535', 'D0904', 'D0368', 'D0543', 'D0803', 'D0216', 'D0724', 'D0448', 'D0655', 'D0579', 'D0652', 'D0507', 'D0347', 'D0772', 'D0075', 'D0684', 'D0172', 'D0377', 'D0428', 'D0179', 'D0250', 'D0658', 'D0159', 'D0184', 'D0515', 'D0440', 'D0638', 'D0665', 'D0233', 'D0116', 'D0160', 'D0291', 'D0819', 'D0756', 'D0491', 'D0305', 'D0487', 'D0359', 'D0259', 'D0501', 'D0344', 'D0012', 'D0193', 'D0884', 'D0239', 'D0692', 'D0367', 'D0327', 'D0723', 'D0790', 'D0373', 'D0683', 'D0307', 'D0102', 'D0854', 'D0090', 'D0157', 'D0298', 'D0634', 'D0732', 'D0366', 'D0083', 'D0057', 'D0071', 'D0293', 'D0095', 'D0181', 'D0586', 'D0916', 'D0762', 'D0447', 'D0289', 'D0662', 'D0735', 'D0557', 'D0304', 'D0869', 'D0802', 'D0382', 'D0467', 'D0103', 'D0025', 'D0859', 'D0779', 'D0226', 'D0295', 'D0309', 'D0228', 'D0273', 'D0196', 'D0278', 'D0267', 'D0138', 'D0257', 'D0530', 'D0162', 'D0169', 'D0405', 'D0791', 'D0910', 'D0832', 'D0265', 'D0322', 'D0649', 'D0509', 'D0371', 'D0527', 'D0656', 'D0308', 'D0794', 'D0038', 'D0722', 'D0745', 'D0873', 'D0275', 'D0201', 'D0127', 'D0053', 'D0770', 'D0121', 'D0895', 'D0876', 'D0805', 'D0627', 'D0449', 'D0317', 'D0395', 'D0671', 'D0563', 'D0807', 'D0887', 'D0689', 'D0452', 'D0465', 'D0056', 'D0629', 'D0463', 'D0050', 'D0099', 'D0014', 'D0879', 'D0213', 'D0123', 'D0738', 'D0314', 'D0473', 'D0659', 'D0857', 'D0132', 'D0069', 'D0833', 'D0569', 'D0798', 'D0064', 'D0715', 'D0253', 'D0686', 'D0408', 'D0214', 'D0001', 'D0107', 'D0024', 'D0645', 'D0883', 'D0493', 'D0920', 'D0290', 'D0336', 'D0815', 'D0707', 'D0284', 'D0354', 'D0571', 'D0129', 'D0046', 'D0240', 'D0871', 'D0027', 'D0215', 'D0709', 'D0615', 'D0538', 'D0360', 'D0439', 'D0338', 'D0427', 'D0907', 'D0870', 'D0786', 'D0526', 'D0657', 'D0047', 'D0333', 'D0471', 'D0288', 'D0592', 'D0886', 'D0087', 'D0856', 'D0834', 'D0711', 'D0740', 'D0144', 'D0422', 'D0559', 'D0704', 'D0152', 'D0746', 'D0058', 'D0875', 'D0733', 'D0917', 'D0207', 'D0500', 'D0222', 'D0310', 'D0150', 'D0274', 'D0757', 'D0163', 'D0032', 'D0074', 'D0021', 'D0041', 'D0067', 'D0358', 'D0018', 'D0351', 'D0663', 'D0817', 'D0575', 'D0022', 'D0610', 'D0694', 'D0839', 'D0495', 'D0510', 'D0667', 'D0170', 'D0076', 'D0161', 'D0546', 'D0720', 'D0864', 'D0714', 'D0862', 'D0666', 'D0104', 'D0048', 'D0081', 'D0425', 'D0394', 'D0424', 'D0777', 'D0455', 'D0635', 'D0768', 'D0729', 'D0378', 'D0698', 'D0151', 'D0799', 'D0606', 'D0361', 'D0097', 'D0736', 'D0068', 'D0889', 'D0098', 'D0082', 'D0292', 'D0585', 'D0182', 'D0492', 'D0444', 'D0892', 'D0822', 'D0888', 'D0885', 'D0611', 'D0437', 'D0587', 'D0829', 'D0765', 'D0835', 'D0918', 'D0503', 'D0139', 'D0847', 'D0030', 'D0108', 'D0055', 'D0013', 'D0186', 'D0020', 'D0381', 'D0007', 'D0521', 'D0672', 'D0263', 'D0165', 'D0567', 'D0379', 'D0685', 'D0122', 'D0311', 'D0522', 'D0673', 'D0676', 'D0015', 'D0200', 'D0843', 'D0636', 'D0866', 'D0813', 'D0806', 'D0780', 'D0742', 'D0135', 'D0594', 'D0008', 'D0669', 'D0238', 'D0489', 'D0009', 'D0369', 'D0520', 'D0072', 'D0814', 'D0725', 'D0793', 'D0256', 'D0582', 'D0362', 'D0410', 'D0519', 'D0268', 'D0603', 'D0908', 'D0568', 'D0608', 'D0506', 'D0350', 'D0699', 'D0695', 'D0398', 'D0342', 'D0531', 'D0593', 'D0752', 'D0842', 'D0287', 'D0716', 'D0556', 'D0549', 'D0808', 'D0451', 'D0202', 'D0712', 'D0086', 'D0558', 'D0242', 'D0264', 'D0387', 'D0441', 'D0112', 'D0105', 'D0045', 'D0044', 'D0005', 'D0004', 'D0921', 'D0335', 'D0353', 'D0236', 'D0641', 'D0185', 'D0763', 'D0450', 'D0648', 'D0782', 'D0642', 'D0688', 'D0576', 'D0853', 'D0109', 'D0120', 'D0111', 'D0296', 'D0602', 'D0816', 'D0330', 'D0065', 'D0393', 'D0457', 'D0590', 'D0902', 'D0923', 'D0383', 'D0643', 'D0286', 'D0812', 'D0300', 'D0850', 'D0584', 'D0844', 'D0773', 'D0588', 'D0272', 'D0331', 'D0705', 'D0552', 'D0693', 'D0668', 'D0316', 'D0326', 'D0863', 'D0167', 'D0341', 'D0380', 'D0040', 'D0681', 'D0073', 'D0156', 'D0750', 'D0313', 'D0247', 'D0052', 'D0687', 'D0390', 'D0827', 'D0346', 'D0604', 'D0831', 'D0028', 'D0421', 'D0796', 'D0334', 'D0404', 'D0855', 'D0675', 'D0285', 'D0677', 'D0364', 'D0438', 'D0297', 'D0191', 'D0502', 'D0485', 'D0321', 'D0385', 'D0442', 'D0396', 'D0088', 'D0872', 'D0911', 'D0858', 'D0898', 'D0710', 'D0389', 'D0922', 'D0748', 'D0721', 'D0484', 'D0418', 'D0533', 'D0682', 'D0624', 'D0276', 'D0255', 'D0564', 'D0702', 'D0778', 'D0661', 'D0788', 'D0523', 'D0897', 'D0867', 'D0795', 'D0234', 'D0836', 'D0230', 'D0605', 'D0511', 'D0664', 'D0560', 'D0343']\n"
     ]
    }
   ],
   "source": [
    "ls = []\n",
    "with open('result59.csv','r') as f:\n",
    "    k = f.readlines()\n",
    "for line in k:\n",
    "    ls.extend(line.strip().split(','))\n",
    "print(ls)"
   ],
   "metadata": {
    "collapsed": false,
    "pycharm": {
     "name": "#%%\n"
    }
   }
  },
  {
   "cell_type": "code",
   "execution_count": 62,
   "outputs": [
    {
     "name": "stdout",
     "output_type": "stream",
     "text": [
      "0.9920974201040585"
     ]
    }
   ],
   "source": [
    "# -*- coding: UTF-8 -*-\n",
    "import pandas as pd\n",
    "import numpy as np\n",
    "from multiprocessing import Pool\n",
    "import random\n",
    "\n",
    "import warnings\n",
    "\n",
    "\n",
    "def initpara():\n",
    "    alpha = 0.99\n",
    "    t = (1, 100)\n",
    "    markovlen = 1000\n",
    "    return alpha, t, markovlen\n",
    "\n",
    "warnings.filterwarnings('ignore')\n",
    "with open('result59.csv', 'r') as f:\n",
    "    lines = f.readlines()\n",
    "indexs = 49\n",
    "\n",
    "data = []\n",
    "\n",
    "for line in lines:\n",
    "    line = line.strip(\"'\\n \").split(',')\n",
    "    data.append(line)\n",
    "with open('result.txt', 'r') as f:\n",
    "    lines = f.readlines()\n",
    "d = {}\n",
    "for line in lines:\n",
    "    line = line.strip()\n",
    "    d[line.split()[0]] = line.split()[1].split(',')\n",
    "\n",
    "matrix = pd.read_csv('met.csv', index_col=0)\n",
    "\n",
    "matrix = matrix.loc[data[indexs]]\n",
    "matrix = matrix[d.get(str(indexs))]\n",
    "\n",
    "matrix = matrix.T\n",
    "\n",
    "right = matrix.apply(lambda k: len(list(k)) - list(k)[::-1].index(1)).tolist()\n",
    "left = matrix.apply(lambda k: list(k).index(1) + 1).tolist()\n",
    "pos = [[left[j], right[j], data[indexs][j]] for j in range(len(left))]\n",
    "\n",
    "# 模拟退火算法\n",
    "# =================初始化参数============\n",
    "num = len(pos)\n",
    "\n",
    "solutionnew = []\n",
    "solutioncurrent = solutionnew.copy()\n",
    "valuecurrent = 990000\n",
    "\n",
    "solutionbest = solutionnew.copy()\n",
    "valuebest = 990000  # np.max\n",
    "\n",
    "alpha, t2, markovlen = initpara()\n",
    "t = t2[1]\n",
    "\n",
    "result = []  # 记录迭代过程当中的最优解\n",
    "while t > 1:\n",
    "    for i in range(markovlen):\n",
    "        # 订单起止区间信息\n",
    "        ls = pos\n",
    "        # 记录员工位置信息\n",
    "        order = [[], [], [], [], []]\n",
    "\n",
    "        # np.random.rand()产生[0, 1)区间的均匀随机数\n",
    "        while True:  # 产生两个不一样的随机数\n",
    "\n",
    "            loc1 = random.randint(0, num - 1)\n",
    "            loc2 = random.randint(0, num - 1)\n",
    "            loc3 = random.randint(0, num - 1)\n",
    "            loc4 = random.randint(0, num - 1)\n",
    "            loc5 = random.randint(0, num - 1)\n",
    "\n",
    "            if len(set([loc1, loc2, loc3, loc4, loc5])) == 5:\n",
    "                used = [loc1, loc2, loc3, loc4, loc5]\n",
    "                # print(used)\n",
    "                break\n",
    "\n",
    "        loc = [loc1, loc2, loc3, loc4, loc5]\n",
    "        dis = [0, 0, 0, 0, 0]\n",
    "        # 完成第一个订单需要移动距离\n",
    "        for i in range(5):\n",
    "            dis[i] += ls[loc[i]][1]\n",
    "\n",
    "        # 订单选取信息\n",
    "        for i in range(5):\n",
    "            order[i].append(ls[loc[i]][2])\n",
    "\n",
    "        # 完成第一个订单员工位置\n",
    "        new = [loc1, loc2, loc3, loc4, loc5]\n",
    "\n",
    "        while len(used) < len(ls):\n",
    "            mins = min(dis)\n",
    "            index = dis.index(mins)\n",
    "\n",
    "            up_min = [1000, 0, 0]\n",
    "\n",
    "            for i in range(len(ls)):\n",
    "                if i not in used:\n",
    "                    if abs(ls[i][0] - new[index]) < up_min[0]:\n",
    "                        up_min[0] = abs(ls[i][0] - new[index])\n",
    "                        up_min[1] = i\n",
    "                        up_min[2] = 0\n",
    "                    if abs(ls[i][1] - new[index]) < up_min[0]:\n",
    "                        up_min[0] = abs(ls[i][0] - new[index])\n",
    "                        up_min[1] = i\n",
    "                        up_min[2] = 1\n",
    "            # 更新总距离\n",
    "            dis[index] += up_min[0] + abs(ls[up_min[1]][1] - ls[up_min[1]][0])\n",
    "            # 更新那单顺序\n",
    "            order[index].append(ls[up_min[1]][2])\n",
    "            # 更新完成订单后位置信息\n",
    "            new[index] = ls[up_min[1]][1 - up_min[2]]\n",
    "\n",
    "            used.append(up_min[1])\n",
    "        for i in range(5):\n",
    "            dis[i] += new[i]\n",
    "        valuenew = max(dis)\n",
    "\n",
    "        # print (valuenew)\n",
    "        if valuenew < valuecurrent:  # 接受该解\n",
    "\n",
    "            # 更新solutioncurrent 和solutionbest\n",
    "            valuecurrent = valuenew\n",
    "            solutioncurrent = order.copy()\n",
    "\n",
    "            if valuenew < valuebest:\n",
    "                valuebest = valuenew\n",
    "                solutionbest = order.copy()\n",
    "        else:  # 按必定的几率接受该解\n",
    "            if np.random.rand() < np.exp(-(valuenew - valuecurrent) / t):\n",
    "                valuecurrent = valuenew\n",
    "                solutioncurrent = order.copy()\n",
    "            else:\n",
    "                order = solutioncurrent.copy()\n",
    "\n",
    "    t = alpha * t\n",
    "    result.append(valuebest)\n",
    "    print('\\r' + str(t), end='')  # 程序运行时间较长，打印t来监视程序进展速度\n",
    "\n",
    "with open('result4.txt', 'a', encoding='GBK') as f:\n",
    "    for i in range(5):\n",
    "        f.write(str(indexs + 1) + ' ' + str(i + 1) + ' ' + ','.join(solutionbest[i]) + '\\n')"
   ],
   "metadata": {
    "collapsed": false,
    "pycharm": {
     "name": "#%%\n"
    }
   }
  },
  {
   "cell_type": "code",
   "execution_count": null,
   "outputs": [],
   "source": [
    "with open('result59.csv', 'r') as f:\n",
    "    lines = f.readlines()\n",
    "\n",
    "data = []\n",
    "\n",
    "for line in lines:\n",
    "    line = line.strip(\"'\\n \").split(',')\n",
    "    data.append(line)\n",
    "with open('result.txt', 'r') as f:\n",
    "    lines = f.readlines()\n",
    "d = {}\n",
    "for line in lines:\n",
    "    line = line.strip()\n",
    "    d[line.split()[0]] = line.split()[1].split(',')"
   ],
   "metadata": {
    "collapsed": false,
    "pycharm": {
     "name": "#%%\n"
    }
   }
  },
  {
   "cell_type": "code",
   "execution_count": null,
   "outputs": [],
   "source": [
    "for i in range(59):\n",
    "    matrix = pd.read_csv('met.csv', index_col=0)\n",
    "\n",
    "    matrix = matrix.loc[data[i]]\n",
    "    matrix = matrix[d.get(str(i))]\n",
    "\n",
    "    matrix = matrix.T\n",
    "\n",
    "    right = matrix.apply(lambda k: len(list(k)) - list(k)[::-1].index(1)).tolist()\n",
    "    left = matrix.apply(lambda k: list(k).index(1) + 1).tolist()\n",
    "    pos = [[left[i],right[i],data[0][i]] for i in range(len(left))]"
   ],
   "metadata": {
    "collapsed": false,
    "pycharm": {
     "name": "#%%\n"
    }
   }
  },
  {
   "cell_type": "code",
   "execution_count": null,
   "outputs": [],
   "source": [
    "d = {}\n",
    "\n",
    "l1, l2, l3, l4 = [], [], [], []\n",
    "ls = []\n",
    "with open('result3.txt', 'r') as f:\n",
    "    lines = f.readlines()\n",
    "for line in lines:\n",
    "    line = line.strip().split()\n",
    "    line[2] = line[2].split(',')\n",
    "\n",
    "    ls.append(line[0])\n",
    "    for i in range(len(line[2])):\n",
    "        l1.append(line[0])\n",
    "        l2.append(line[1])\n",
    "        l3.append(i + 1)\n",
    "        l4.append(line[2][i])\n",
    "da = pd.DataFrame({'OrderNo': l4, 'GroupNo': l1, 'WorkerNo': l2, 'TaskNo': l3})\n",
    "# 字符串转为数字形式方便值大小排序\n",
    "da[['GroupNo', 'WorkerNo', 'TaskNo']] = da[['GroupNo', 'WorkerNo', 'TaskNo']].astype(int)\n",
    "# 排序\n",
    "da = da.sort_values(by=['GroupNo', 'WorkerNo', 'TaskNo'])\n",
    "da.to_csv('result3.csv', encoding='GBK', index=None)\n",
    "\n",
    "da.head(10)"
   ],
   "metadata": {
    "collapsed": false,
    "pycharm": {
     "name": "#%%\n"
    }
   }
  }
 ],
 "metadata": {
  "kernelspec": {
   "display_name": "Python 3",
   "language": "python",
   "name": "python3"
  },
  "language_info": {
   "codemirror_mode": {
    "name": "ipython",
    "version": 2
   },
   "file_extension": ".py",
   "mimetype": "text/x-python",
   "name": "python",
   "nbconvert_exporter": "python",
   "pygments_lexer": "ipython2",
   "version": "2.7.6"
  }
 },
 "nbformat": 4,
 "nbformat_minor": 0
}