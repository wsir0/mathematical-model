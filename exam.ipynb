{
 "cells": [
  {
   "cell_type": "code",
   "execution_count": 28,
   "metadata": {
    "collapsed": true,
    "pycharm": {
     "name": "#%%\n"
    }
   },
   "outputs": [
    {
     "name": "stdout",
     "output_type": "stream",
     "text": [
      "159\n"
     ]
    }
   ],
   "source": [
    "n = int(input())\n",
    "ls = []\n",
    "for i in range(n):\n",
    "    ls.append(int(input()))\n",
    "\n",
    "ans = [0]\n",
    "kkkk = [0,1,2,3,4,5,6,7,8,9]\n",
    "for i in range(10):\n",
    "    for j in range(i, 10):\n",
    "        for l in range(1,9):\n",
    "            new = ''\n",
    "            for k in kkkk[i:j+1:l]:\n",
    "                new += str(k)\n",
    "            if new:\n",
    "                ans.append(int(new))\n",
    "                ans.append(int(new[::-1]))\n",
    "\n",
    "\n",
    "for i in range(1, 10):\n",
    "    for j in range(1, 20):\n",
    "        new = str(i) * j\n",
    "        ans.append(int(new))\n",
    "\n",
    "ans = list(set(ans))\n",
    "ans.sort()\n",
    "\n",
    "for k in ls:\n",
    "    for i in ans:\n",
    "        if i >= k:\n",
    "            print(i)\n",
    "            break"
   ]
  },
  {
   "cell_type": "code",
   "execution_count": null,
   "outputs": [],
   "source": [
    "def mid(ls):\n",
    "    lens = len(new_ls)\n",
    "    new_ls.sort()\n",
    "    return new_ls[lens // 2]\n",
    "\n",
    "\n",
    "n = int(input())\n",
    "ls1 = []\n",
    "ls2 = []\n",
    "for _ in range(n):\n",
    "    ls1.append(int(input()))\n",
    "    ls2.append(list(map(int, input().split())))\n",
    "for i in range(n):\n",
    "\n",
    "    k = ls1[i]\n",
    "    ls = ls2[i]\n",
    "\n",
    "    if k <= 2:\n",
    "        print(max(ls))\n",
    "        continue\n",
    "\n",
    "    used = [False] * k\n",
    "    ans = [-100000]\n",
    "    new_ls = []\n",
    "\n",
    "\n",
    "    def dfs(ls, newa_ls, n, k):\n",
    "        if n > k:\n",
    "            ans[0] = max(ans[0], mid(new_ls))\n",
    "            return\n",
    "        if used[n - 2] == False:\n",
    "            used[n - 1] = True\n",
    "            new_ls.append(ls[n - 1])\n",
    "            dfs(ls, new_ls, n + 1, k)\n",
    "        else:\n",
    "            used[n - 1] = True\n",
    "            new_ls.append(ls[n - 1])\n",
    "            dfs(ls, new_ls, n + 1, k)\n",
    "\n",
    "            new_ls.pop()\n",
    "            used[n - 1] = False\n",
    "            dfs(ls, new_ls, n + 1, k)\n",
    "\n",
    "\n",
    "    dfs(ls, new_ls, 1, k)\n",
    "    print(int(ans[0]))"
   ],
   "metadata": {
    "collapsed": false,
    "pycharm": {
     "name": "#%%\n"
    }
   }
  }
 ],
 "metadata": {
  "kernelspec": {
   "display_name": "Python 3",
   "language": "python",
   "name": "python3"
  },
  "language_info": {
   "codemirror_mode": {
    "name": "ipython",
    "version": 3
   },
   "file_extension": ".py",
   "mimetype": "text/x-python",
   "name": "python",
   "nbconvert_exporter": "python",
   "pygments_lexer": "ipython3",
   "version": "3.8.5"
  },
  "toc": {
   "base_numbering": 1,
   "nav_menu": {},
   "number_sections": true,
   "sideBar": true,
   "skip_h1_title": false,
   "title_cell": "Table of Contents",
   "title_sidebar": "Contents",
   "toc_cell": false,
   "toc_position": {},
   "toc_section_display": true,
   "toc_window_display": false
  }
 },
 "nbformat": 4,
 "nbformat_minor": 1
}