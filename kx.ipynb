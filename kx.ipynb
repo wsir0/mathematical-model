{
 "cells": [
  {
   "cell_type": "code",
   "execution_count": 11,
   "metadata": {
    "collapsed": true
   },
   "outputs": [],
   "source": [
    "import pandas as pd\n",
    "import numpy as np\n",
    "import matplotlib.pyplot as plt\n",
    "import warnings\n",
    "\n",
    "warnings.filterwarnings('ignore')\n",
    "with open('result59.csv', 'r') as f:\n",
    "    lines = f.readlines()\n",
    "\n",
    "data = []\n",
    "\n",
    "for line in lines:\n",
    "    line = line.strip(\"'\\n \").split(',')\n",
    "    data.append(line)\n",
    "with open('result.txt', 'r') as f:\n",
    "    lines = f.readlines()\n",
    "d = {}\n",
    "for line in lines:\n",
    "    line = line.strip()\n",
    "    d[line.split()[0]] = line.split()[1].split(',')"
   ]
  },
  {
   "cell_type": "code",
   "execution_count": 14,
   "outputs": [],
   "source": [
    "for i in range(59):\n",
    "    matrix = pd.read_csv('met.csv', index_col=0)\n",
    "\n",
    "    matrix = matrix.loc[data[i]]\n",
    "    matrix = matrix[d.get(str(i))]\n",
    "\n",
    "    matrix = matrix.T\n",
    "\n",
    "    right = matrix.apply(lambda k: len(list(k)) - list(k)[::-1].index(1)).tolist()\n",
    "    left = matrix.apply(lambda k: list(k).index(1) + 1).tolist()\n",
    "    pos = [[left[i],right[i],data[0][i]] for i in range(len(left))]\n"
   ],
   "metadata": {
    "collapsed": false,
    "pycharm": {
     "name": "#%%\n"
    }
   }
  },
  {
   "cell_type": "code",
   "execution_count": 3,
   "outputs": [
    {
     "data": {
      "text/plain": "    OrderNo  GroupNo  WorkerNo  TaskNo\n866   D0601        1         1       1\n867   D0352        1         1       2\n868   D0581        1         1       3\n869   D0423        1         1       4\n870   D0026        1         2       1\n871   D0613        1         2       2\n872   D0126        1         2       3\n873   D0096        1         2       4\n874   D0496        1         2       5\n875   D0776        1         2       6",
      "text/html": "<div>\n<style scoped>\n    .dataframe tbody tr th:only-of-type {\n        vertical-align: middle;\n    }\n\n    .dataframe tbody tr th {\n        vertical-align: top;\n    }\n\n    .dataframe thead th {\n        text-align: right;\n    }\n</style>\n<table border=\"1\" class=\"dataframe\">\n  <thead>\n    <tr style=\"text-align: right;\">\n      <th></th>\n      <th>OrderNo</th>\n      <th>GroupNo</th>\n      <th>WorkerNo</th>\n      <th>TaskNo</th>\n    </tr>\n  </thead>\n  <tbody>\n    <tr>\n      <th>866</th>\n      <td>D0601</td>\n      <td>1</td>\n      <td>1</td>\n      <td>1</td>\n    </tr>\n    <tr>\n      <th>867</th>\n      <td>D0352</td>\n      <td>1</td>\n      <td>1</td>\n      <td>2</td>\n    </tr>\n    <tr>\n      <th>868</th>\n      <td>D0581</td>\n      <td>1</td>\n      <td>1</td>\n      <td>3</td>\n    </tr>\n    <tr>\n      <th>869</th>\n      <td>D0423</td>\n      <td>1</td>\n      <td>1</td>\n      <td>4</td>\n    </tr>\n    <tr>\n      <th>870</th>\n      <td>D0026</td>\n      <td>1</td>\n      <td>2</td>\n      <td>1</td>\n    </tr>\n    <tr>\n      <th>871</th>\n      <td>D0613</td>\n      <td>1</td>\n      <td>2</td>\n      <td>2</td>\n    </tr>\n    <tr>\n      <th>872</th>\n      <td>D0126</td>\n      <td>1</td>\n      <td>2</td>\n      <td>3</td>\n    </tr>\n    <tr>\n      <th>873</th>\n      <td>D0096</td>\n      <td>1</td>\n      <td>2</td>\n      <td>4</td>\n    </tr>\n    <tr>\n      <th>874</th>\n      <td>D0496</td>\n      <td>1</td>\n      <td>2</td>\n      <td>5</td>\n    </tr>\n    <tr>\n      <th>875</th>\n      <td>D0776</td>\n      <td>1</td>\n      <td>2</td>\n      <td>6</td>\n    </tr>\n  </tbody>\n</table>\n</div>"
     },
     "execution_count": 3,
     "metadata": {},
     "output_type": "execute_result"
    }
   ],
   "source": [
    "import pandas as pd\n",
    "\n",
    "d = {}\n",
    "\n",
    "l1, l2, l3, l4 = [], [], [], []\n",
    "ls = []\n",
    "with open('result3.txt', 'r') as f:\n",
    "    lines = f.readlines()\n",
    "for line in lines:\n",
    "    line = line.strip().split()\n",
    "    line[2] = line[2].split(',')\n",
    "\n",
    "    ls.append(line[0])\n",
    "    for i in range(len(line[2])):\n",
    "        l1.append(line[0])\n",
    "        l2.append(line[1])\n",
    "        l3.append(i + 1)\n",
    "        l4.append(line[2][i])\n",
    "da = pd.DataFrame({'OrderNo': l4, 'GroupNo':l1, 'WorkerNo':l2, 'TaskNo':l3})\n",
    "\n",
    "da[['GroupNo','WorkerNo','TaskNo']] = da[['GroupNo','WorkerNo','TaskNo']].astype(int)\n",
    "\n",
    "da = da.sort_values(by=['GroupNo','WorkerNo','TaskNo'])\n",
    "\n",
    "da.head(10)"
   ],
   "metadata": {
    "collapsed": false,
    "pycharm": {
     "name": "#%%\n"
    }
   }
  },
  {
   "cell_type": "code",
   "execution_count": 4,
   "outputs": [],
   "source": [
    "da.to_csv('result3.csv', encoding='GBK', index=None)"
   ],
   "metadata": {
    "collapsed": false,
    "pycharm": {
     "name": "#%%\n"
    }
   }
  }
 ],
 "metadata": {
  "kernelspec": {
   "display_name": "Python 3",
   "language": "python",
   "name": "python3"
  },
  "language_info": {
   "codemirror_mode": {
    "name": "ipython",
    "version": 2
   },
   "file_extension": ".py",
   "mimetype": "text/x-python",
   "name": "python",
   "nbconvert_exporter": "python",
   "pygments_lexer": "ipython2",
   "version": "2.7.6"
  }
 },
 "nbformat": 4,
 "nbformat_minor": 0
}