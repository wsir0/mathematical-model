{
 "cells": [
  {
   "cell_type": "code",
   "execution_count": 1,
   "metadata": {},
   "outputs": [
    {
     "data": {
      "text/plain": "  OrderNo ItemNo  Quantity\n0   D0001  P0128         4\n1   D0001  P0129         4\n2   D0001  P0313         6\n3   D0001  P0315         6\n4   D0001  P0398        12",
      "text/html": "<div>\n<style scoped>\n    .dataframe tbody tr th:only-of-type {\n        vertical-align: middle;\n    }\n\n    .dataframe tbody tr th {\n        vertical-align: top;\n    }\n\n    .dataframe thead th {\n        text-align: right;\n    }\n</style>\n<table border=\"1\" class=\"dataframe\">\n  <thead>\n    <tr style=\"text-align: right;\">\n      <th></th>\n      <th>OrderNo</th>\n      <th>ItemNo</th>\n      <th>Quantity</th>\n    </tr>\n  </thead>\n  <tbody>\n    <tr>\n      <th>0</th>\n      <td>D0001</td>\n      <td>P0128</td>\n      <td>4</td>\n    </tr>\n    <tr>\n      <th>1</th>\n      <td>D0001</td>\n      <td>P0129</td>\n      <td>4</td>\n    </tr>\n    <tr>\n      <th>2</th>\n      <td>D0001</td>\n      <td>P0313</td>\n      <td>6</td>\n    </tr>\n    <tr>\n      <th>3</th>\n      <td>D0001</td>\n      <td>P0315</td>\n      <td>6</td>\n    </tr>\n    <tr>\n      <th>4</th>\n      <td>D0001</td>\n      <td>P0398</td>\n      <td>12</td>\n    </tr>\n  </tbody>\n</table>\n</div>"
     },
     "execution_count": 1,
     "metadata": {},
     "output_type": "execute_result"
    }
   ],
   "source": [
    "import pandas as pd\n",
    "\n",
    "data = pd.read_csv('./data/order.csv')\n",
    "data.head()"
   ]
  },
  {
   "cell_type": "markdown",
   "metadata": {
    "pycharm": {
     "name": "#%% md\n"
    }
   },
   "source": [
    "## 数据探索"
   ]
  },
  {
   "cell_type": "code",
   "execution_count": 2,
   "metadata": {
    "pycharm": {
     "name": "#%%\n"
    }
   },
   "outputs": [
    {
     "name": "stdout",
     "output_type": "stream",
     "text": [
      "订单数量： 923\n",
      "货物种类： 1941\n"
     ]
    }
   ],
   "source": [
    "order = data['OrderNo'].drop_duplicates().tolist()\n",
    "cot = data['ItemNo'].drop_duplicates().tolist()\n",
    "\n",
    "print('订单数量：',len(order))\n",
    "print('货物种类：',len(cot))"
   ]
  },
  {
   "cell_type": "code",
   "execution_count": 3,
   "metadata": {
    "pycharm": {
     "name": "#%%\n"
    }
   },
   "outputs": [],
   "source": [
    "# 字典存放订单数据\n",
    "d = {}\n",
    "for i in range(len(data)):\n",
    "    d[data.iloc[i]['OrderNo']] = d.get(data.iloc[i]['OrderNo'], []) + [data.iloc[i]['ItemNo']]"
   ]
  },
  {
   "cell_type": "code",
   "execution_count": 4,
   "metadata": {
    "pycharm": {
     "name": "#%%\n"
    }
   },
   "outputs": [
    {
     "data": {
      "text/plain": "      P0128 P0129 P0313 P0315 P0398 P0412 P0414 P0536 P0539 P0761  ... P0479  \\\nD0001     1     1     1     1     1     1     1     1     1     1  ...     0   \nD0002     0     0     0     0     0     0     0     0     0     0  ...     0   \nD0003     0     0     0     0     0     0     0     0     0     0  ...     0   \nD0004     0     0     0     0     0     0     0     0     0     0  ...     0   \nD0005     0     0     0     0     0     0     0     0     0     0  ...     0   \n...     ...   ...   ...   ...   ...   ...   ...   ...   ...   ...  ...   ...   \nD0919     0     0     0     0     0     0     0     0     0     0  ...     0   \nD0920     0     0     0     0     0     0     0     0     1     1  ...     0   \nD0921     0     0     0     0     0     0     0     0     0     0  ...     0   \nD0922     0     0     0     0     0     0     0     0     0     0  ...     0   \nD0923     0     0     0     0     0     0     0     0     0     0  ...     0   \n\n      P0689 P0691 P0700 P0726 P0869 P1504 P1630 P1649 P1752  \nD0001     0     0     0     0     0     0     0     0     0  \nD0002     0     0     0     0     0     0     0     0     0  \nD0003     0     0     0     0     0     0     0     0     0  \nD0004     0     0     0     0     0     0     0     0     0  \nD0005     0     0     0     0     0     0     0     0     0  \n...     ...   ...   ...   ...   ...   ...   ...   ...   ...  \nD0919     0     0     0     0     0     0     0     0     0  \nD0920     0     0     0     0     0     0     0     0     0  \nD0921     0     0     0     0     0     0     0     0     0  \nD0922     0     0     0     0     0     0     0     0     0  \nD0923     0     0     0     0     0     0     0     0     0  \n\n[923 rows x 1941 columns]",
      "text/html": "<div>\n<style scoped>\n    .dataframe tbody tr th:only-of-type {\n        vertical-align: middle;\n    }\n\n    .dataframe tbody tr th {\n        vertical-align: top;\n    }\n\n    .dataframe thead th {\n        text-align: right;\n    }\n</style>\n<table border=\"1\" class=\"dataframe\">\n  <thead>\n    <tr style=\"text-align: right;\">\n      <th></th>\n      <th>P0128</th>\n      <th>P0129</th>\n      <th>P0313</th>\n      <th>P0315</th>\n      <th>P0398</th>\n      <th>P0412</th>\n      <th>P0414</th>\n      <th>P0536</th>\n      <th>P0539</th>\n      <th>P0761</th>\n      <th>...</th>\n      <th>P0479</th>\n      <th>P0689</th>\n      <th>P0691</th>\n      <th>P0700</th>\n      <th>P0726</th>\n      <th>P0869</th>\n      <th>P1504</th>\n      <th>P1630</th>\n      <th>P1649</th>\n      <th>P1752</th>\n    </tr>\n  </thead>\n  <tbody>\n    <tr>\n      <th>D0001</th>\n      <td>1</td>\n      <td>1</td>\n      <td>1</td>\n      <td>1</td>\n      <td>1</td>\n      <td>1</td>\n      <td>1</td>\n      <td>1</td>\n      <td>1</td>\n      <td>1</td>\n      <td>...</td>\n      <td>0</td>\n      <td>0</td>\n      <td>0</td>\n      <td>0</td>\n      <td>0</td>\n      <td>0</td>\n      <td>0</td>\n      <td>0</td>\n      <td>0</td>\n      <td>0</td>\n    </tr>\n    <tr>\n      <th>D0002</th>\n      <td>0</td>\n      <td>0</td>\n      <td>0</td>\n      <td>0</td>\n      <td>0</td>\n      <td>0</td>\n      <td>0</td>\n      <td>0</td>\n      <td>0</td>\n      <td>0</td>\n      <td>...</td>\n      <td>0</td>\n      <td>0</td>\n      <td>0</td>\n      <td>0</td>\n      <td>0</td>\n      <td>0</td>\n      <td>0</td>\n      <td>0</td>\n      <td>0</td>\n      <td>0</td>\n    </tr>\n    <tr>\n      <th>D0003</th>\n      <td>0</td>\n      <td>0</td>\n      <td>0</td>\n      <td>0</td>\n      <td>0</td>\n      <td>0</td>\n      <td>0</td>\n      <td>0</td>\n      <td>0</td>\n      <td>0</td>\n      <td>...</td>\n      <td>0</td>\n      <td>0</td>\n      <td>0</td>\n      <td>0</td>\n      <td>0</td>\n      <td>0</td>\n      <td>0</td>\n      <td>0</td>\n      <td>0</td>\n      <td>0</td>\n    </tr>\n    <tr>\n      <th>D0004</th>\n      <td>0</td>\n      <td>0</td>\n      <td>0</td>\n      <td>0</td>\n      <td>0</td>\n      <td>0</td>\n      <td>0</td>\n      <td>0</td>\n      <td>0</td>\n      <td>0</td>\n      <td>...</td>\n      <td>0</td>\n      <td>0</td>\n      <td>0</td>\n      <td>0</td>\n      <td>0</td>\n      <td>0</td>\n      <td>0</td>\n      <td>0</td>\n      <td>0</td>\n      <td>0</td>\n    </tr>\n    <tr>\n      <th>D0005</th>\n      <td>0</td>\n      <td>0</td>\n      <td>0</td>\n      <td>0</td>\n      <td>0</td>\n      <td>0</td>\n      <td>0</td>\n      <td>0</td>\n      <td>0</td>\n      <td>0</td>\n      <td>...</td>\n      <td>0</td>\n      <td>0</td>\n      <td>0</td>\n      <td>0</td>\n      <td>0</td>\n      <td>0</td>\n      <td>0</td>\n      <td>0</td>\n      <td>0</td>\n      <td>0</td>\n    </tr>\n    <tr>\n      <th>...</th>\n      <td>...</td>\n      <td>...</td>\n      <td>...</td>\n      <td>...</td>\n      <td>...</td>\n      <td>...</td>\n      <td>...</td>\n      <td>...</td>\n      <td>...</td>\n      <td>...</td>\n      <td>...</td>\n      <td>...</td>\n      <td>...</td>\n      <td>...</td>\n      <td>...</td>\n      <td>...</td>\n      <td>...</td>\n      <td>...</td>\n      <td>...</td>\n      <td>...</td>\n      <td>...</td>\n    </tr>\n    <tr>\n      <th>D0919</th>\n      <td>0</td>\n      <td>0</td>\n      <td>0</td>\n      <td>0</td>\n      <td>0</td>\n      <td>0</td>\n      <td>0</td>\n      <td>0</td>\n      <td>0</td>\n      <td>0</td>\n      <td>...</td>\n      <td>0</td>\n      <td>0</td>\n      <td>0</td>\n      <td>0</td>\n      <td>0</td>\n      <td>0</td>\n      <td>0</td>\n      <td>0</td>\n      <td>0</td>\n      <td>0</td>\n    </tr>\n    <tr>\n      <th>D0920</th>\n      <td>0</td>\n      <td>0</td>\n      <td>0</td>\n      <td>0</td>\n      <td>0</td>\n      <td>0</td>\n      <td>0</td>\n      <td>0</td>\n      <td>1</td>\n      <td>1</td>\n      <td>...</td>\n      <td>0</td>\n      <td>0</td>\n      <td>0</td>\n      <td>0</td>\n      <td>0</td>\n      <td>0</td>\n      <td>0</td>\n      <td>0</td>\n      <td>0</td>\n      <td>0</td>\n    </tr>\n    <tr>\n      <th>D0921</th>\n      <td>0</td>\n      <td>0</td>\n      <td>0</td>\n      <td>0</td>\n      <td>0</td>\n      <td>0</td>\n      <td>0</td>\n      <td>0</td>\n      <td>0</td>\n      <td>0</td>\n      <td>...</td>\n      <td>0</td>\n      <td>0</td>\n      <td>0</td>\n      <td>0</td>\n      <td>0</td>\n      <td>0</td>\n      <td>0</td>\n      <td>0</td>\n      <td>0</td>\n      <td>0</td>\n    </tr>\n    <tr>\n      <th>D0922</th>\n      <td>0</td>\n      <td>0</td>\n      <td>0</td>\n      <td>0</td>\n      <td>0</td>\n      <td>0</td>\n      <td>0</td>\n      <td>0</td>\n      <td>0</td>\n      <td>0</td>\n      <td>...</td>\n      <td>0</td>\n      <td>0</td>\n      <td>0</td>\n      <td>0</td>\n      <td>0</td>\n      <td>0</td>\n      <td>0</td>\n      <td>0</td>\n      <td>0</td>\n      <td>0</td>\n    </tr>\n    <tr>\n      <th>D0923</th>\n      <td>0</td>\n      <td>0</td>\n      <td>0</td>\n      <td>0</td>\n      <td>0</td>\n      <td>0</td>\n      <td>0</td>\n      <td>0</td>\n      <td>0</td>\n      <td>0</td>\n      <td>...</td>\n      <td>0</td>\n      <td>0</td>\n      <td>0</td>\n      <td>0</td>\n      <td>0</td>\n      <td>0</td>\n      <td>0</td>\n      <td>0</td>\n      <td>0</td>\n      <td>0</td>\n    </tr>\n  </tbody>\n</table>\n<p>923 rows × 1941 columns</p>\n</div>"
     },
     "execution_count": 4,
     "metadata": {},
     "output_type": "execute_result"
    }
   ],
   "source": [
    "# 将数据转换为矩阵形式\n",
    "cot = data['ItemNo'].drop_duplicates().tolist()\n",
    "matrix = pd.DataFrame(columns=cot, index=order)\n",
    "\n",
    "# 将词向量转换为0,1数字形式\n",
    "for i in range(len(order)):\n",
    "    for j in range(len(cot)):\n",
    "        if cot[j] in d[order[i]]:\n",
    "            matrix.iloc[i, j] = 1\n",
    "        else:\n",
    "            matrix.iloc[i, j] = 0\n",
    "matrix.to_csv('./data/met.csv')\n",
    "matrix"
   ]
  },
  {
   "cell_type": "code",
   "execution_count": 5,
   "outputs": [],
   "source": [
    "import pandas as pd\n",
    "\n",
    "matrix = pd.read_csv('./met.csv',index_col=0)"
   ],
   "metadata": {
    "collapsed": false,
    "pycharm": {
     "name": "#%%\n"
    }
   }
  },
  {
   "cell_type": "code",
   "execution_count": 7,
   "metadata": {
    "pycharm": {
     "name": "#%%\n"
    }
   },
   "outputs": [
    {
     "data": {
      "text/plain": "      P0128 P0129 P0313 P0315 P0398 P0412 P0414 P0536 P0539 P0761  ... P0689  \\\nD0148     0     0     0     0     0     1     1     0     0     0  ...     0   \nD0190     0     0     0     0     0     0     0     0     0     0  ...     0   \nD0031     0     0     0     0     0     0     0     0     0     0  ...     0   \nD0175     0     0     0     0     0     0     0     0     0     0  ...     0   \nD0204     0     0     0     0     0     0     0     0     0     0  ...     0   \n\n      P0691 P0700 P0726 P0869 P1504 P1630 P1649 P1752    sum  \nD0148     0     0     0     0     0     0     0     0  143.0  \nD0190     0     0     0     0     0     0     0     0  118.0  \nD0031     0     0     0     0     0     0     0     0  109.0  \nD0175     0     0     0     0     0     0     0     0   85.0  \nD0204     0     0     0     0     0     0     0     0   78.0  \n\n[5 rows x 1942 columns]",
      "text/html": "<div>\n<style scoped>\n    .dataframe tbody tr th:only-of-type {\n        vertical-align: middle;\n    }\n\n    .dataframe tbody tr th {\n        vertical-align: top;\n    }\n\n    .dataframe thead th {\n        text-align: right;\n    }\n</style>\n<table border=\"1\" class=\"dataframe\">\n  <thead>\n    <tr style=\"text-align: right;\">\n      <th></th>\n      <th>P0128</th>\n      <th>P0129</th>\n      <th>P0313</th>\n      <th>P0315</th>\n      <th>P0398</th>\n      <th>P0412</th>\n      <th>P0414</th>\n      <th>P0536</th>\n      <th>P0539</th>\n      <th>P0761</th>\n      <th>...</th>\n      <th>P0689</th>\n      <th>P0691</th>\n      <th>P0700</th>\n      <th>P0726</th>\n      <th>P0869</th>\n      <th>P1504</th>\n      <th>P1630</th>\n      <th>P1649</th>\n      <th>P1752</th>\n      <th>sum</th>\n    </tr>\n  </thead>\n  <tbody>\n    <tr>\n      <th>D0148</th>\n      <td>0</td>\n      <td>0</td>\n      <td>0</td>\n      <td>0</td>\n      <td>0</td>\n      <td>1</td>\n      <td>1</td>\n      <td>0</td>\n      <td>0</td>\n      <td>0</td>\n      <td>...</td>\n      <td>0</td>\n      <td>0</td>\n      <td>0</td>\n      <td>0</td>\n      <td>0</td>\n      <td>0</td>\n      <td>0</td>\n      <td>0</td>\n      <td>0</td>\n      <td>143.0</td>\n    </tr>\n    <tr>\n      <th>D0190</th>\n      <td>0</td>\n      <td>0</td>\n      <td>0</td>\n      <td>0</td>\n      <td>0</td>\n      <td>0</td>\n      <td>0</td>\n      <td>0</td>\n      <td>0</td>\n      <td>0</td>\n      <td>...</td>\n      <td>0</td>\n      <td>0</td>\n      <td>0</td>\n      <td>0</td>\n      <td>0</td>\n      <td>0</td>\n      <td>0</td>\n      <td>0</td>\n      <td>0</td>\n      <td>118.0</td>\n    </tr>\n    <tr>\n      <th>D0031</th>\n      <td>0</td>\n      <td>0</td>\n      <td>0</td>\n      <td>0</td>\n      <td>0</td>\n      <td>0</td>\n      <td>0</td>\n      <td>0</td>\n      <td>0</td>\n      <td>0</td>\n      <td>...</td>\n      <td>0</td>\n      <td>0</td>\n      <td>0</td>\n      <td>0</td>\n      <td>0</td>\n      <td>0</td>\n      <td>0</td>\n      <td>0</td>\n      <td>0</td>\n      <td>109.0</td>\n    </tr>\n    <tr>\n      <th>D0175</th>\n      <td>0</td>\n      <td>0</td>\n      <td>0</td>\n      <td>0</td>\n      <td>0</td>\n      <td>0</td>\n      <td>0</td>\n      <td>0</td>\n      <td>0</td>\n      <td>0</td>\n      <td>...</td>\n      <td>0</td>\n      <td>0</td>\n      <td>0</td>\n      <td>0</td>\n      <td>0</td>\n      <td>0</td>\n      <td>0</td>\n      <td>0</td>\n      <td>0</td>\n      <td>85.0</td>\n    </tr>\n    <tr>\n      <th>D0204</th>\n      <td>0</td>\n      <td>0</td>\n      <td>0</td>\n      <td>0</td>\n      <td>0</td>\n      <td>0</td>\n      <td>0</td>\n      <td>0</td>\n      <td>0</td>\n      <td>0</td>\n      <td>...</td>\n      <td>0</td>\n      <td>0</td>\n      <td>0</td>\n      <td>0</td>\n      <td>0</td>\n      <td>0</td>\n      <td>0</td>\n      <td>0</td>\n      <td>0</td>\n      <td>78.0</td>\n    </tr>\n  </tbody>\n</table>\n<p>5 rows × 1942 columns</p>\n</div>"
     },
     "execution_count": 7,
     "metadata": {},
     "output_type": "execute_result"
    }
   ],
   "source": [
    "# 计算每种订单的货物数量\n",
    "matrix['sum'] = matrix.sum(axis=1)\n",
    "matrix = matrix.sort_values(by='sum',ascending=False)\n",
    "matrix.head()"
   ]
  },
  {
   "cell_type": "code",
   "execution_count": null,
   "metadata": {
    "pycharm": {
     "name": "#%%\n"
    }
   },
   "outputs": [],
   "source": [
    "matrix.to_csv('data.csv',encoding='GBK')"
   ]
  },
  {
   "cell_type": "code",
   "execution_count": 8,
   "metadata": {
    "pycharm": {
     "name": "#%%\n"
    }
   },
   "outputs": [
    {
     "data": {
      "text/plain": "      D0148 D0190 D0031 D0175 D0204 D0145 D0029 D0283 D0006 D0246  ... D0243  \\\nP0128     0     0     0     0     0     0     0     0     0     0  ...     0   \nP0129     0     0     0     0     0     0     0     0     0     0  ...     0   \nP0313     0     0     0     0     0     0     0     0     0     0  ...     0   \nP0315     0     0     0     0     0     0     0     0     0     0  ...     0   \nP0398     0     0     0     0     0     0     0     0     0     0  ...     0   \n\n      D0245 D0002 D0162 D0146 D0091 D0158 D0110 D0112 D0212  \nP0128     0     0     0     0     0     0     0     0     0  \nP0129     0     0     0     0     0     0     0     0     0  \nP0313     0     0     0     0     0     0     0     0     0  \nP0315     0     0     0     0     0     0     0     0     0  \nP0398     0     0     0     0     0     0     0     0     0  \n\n[5 rows x 923 columns]",
      "text/html": "<div>\n<style scoped>\n    .dataframe tbody tr th:only-of-type {\n        vertical-align: middle;\n    }\n\n    .dataframe tbody tr th {\n        vertical-align: top;\n    }\n\n    .dataframe thead th {\n        text-align: right;\n    }\n</style>\n<table border=\"1\" class=\"dataframe\">\n  <thead>\n    <tr style=\"text-align: right;\">\n      <th></th>\n      <th>D0148</th>\n      <th>D0190</th>\n      <th>D0031</th>\n      <th>D0175</th>\n      <th>D0204</th>\n      <th>D0145</th>\n      <th>D0029</th>\n      <th>D0283</th>\n      <th>D0006</th>\n      <th>D0246</th>\n      <th>...</th>\n      <th>D0243</th>\n      <th>D0245</th>\n      <th>D0002</th>\n      <th>D0162</th>\n      <th>D0146</th>\n      <th>D0091</th>\n      <th>D0158</th>\n      <th>D0110</th>\n      <th>D0112</th>\n      <th>D0212</th>\n    </tr>\n  </thead>\n  <tbody>\n    <tr>\n      <th>P0128</th>\n      <td>0</td>\n      <td>0</td>\n      <td>0</td>\n      <td>0</td>\n      <td>0</td>\n      <td>0</td>\n      <td>0</td>\n      <td>0</td>\n      <td>0</td>\n      <td>0</td>\n      <td>...</td>\n      <td>0</td>\n      <td>0</td>\n      <td>0</td>\n      <td>0</td>\n      <td>0</td>\n      <td>0</td>\n      <td>0</td>\n      <td>0</td>\n      <td>0</td>\n      <td>0</td>\n    </tr>\n    <tr>\n      <th>P0129</th>\n      <td>0</td>\n      <td>0</td>\n      <td>0</td>\n      <td>0</td>\n      <td>0</td>\n      <td>0</td>\n      <td>0</td>\n      <td>0</td>\n      <td>0</td>\n      <td>0</td>\n      <td>...</td>\n      <td>0</td>\n      <td>0</td>\n      <td>0</td>\n      <td>0</td>\n      <td>0</td>\n      <td>0</td>\n      <td>0</td>\n      <td>0</td>\n      <td>0</td>\n      <td>0</td>\n    </tr>\n    <tr>\n      <th>P0313</th>\n      <td>0</td>\n      <td>0</td>\n      <td>0</td>\n      <td>0</td>\n      <td>0</td>\n      <td>0</td>\n      <td>0</td>\n      <td>0</td>\n      <td>0</td>\n      <td>0</td>\n      <td>...</td>\n      <td>0</td>\n      <td>0</td>\n      <td>0</td>\n      <td>0</td>\n      <td>0</td>\n      <td>0</td>\n      <td>0</td>\n      <td>0</td>\n      <td>0</td>\n      <td>0</td>\n    </tr>\n    <tr>\n      <th>P0315</th>\n      <td>0</td>\n      <td>0</td>\n      <td>0</td>\n      <td>0</td>\n      <td>0</td>\n      <td>0</td>\n      <td>0</td>\n      <td>0</td>\n      <td>0</td>\n      <td>0</td>\n      <td>...</td>\n      <td>0</td>\n      <td>0</td>\n      <td>0</td>\n      <td>0</td>\n      <td>0</td>\n      <td>0</td>\n      <td>0</td>\n      <td>0</td>\n      <td>0</td>\n      <td>0</td>\n    </tr>\n    <tr>\n      <th>P0398</th>\n      <td>0</td>\n      <td>0</td>\n      <td>0</td>\n      <td>0</td>\n      <td>0</td>\n      <td>0</td>\n      <td>0</td>\n      <td>0</td>\n      <td>0</td>\n      <td>0</td>\n      <td>...</td>\n      <td>0</td>\n      <td>0</td>\n      <td>0</td>\n      <td>0</td>\n      <td>0</td>\n      <td>0</td>\n      <td>0</td>\n      <td>0</td>\n      <td>0</td>\n      <td>0</td>\n    </tr>\n  </tbody>\n</table>\n<p>5 rows × 923 columns</p>\n</div>"
     },
     "execution_count": 8,
     "metadata": {},
     "output_type": "execute_result"
    }
   ],
   "source": [
    "matrix_new = matrix.T\n",
    "matrix_new.head()"
   ]
  },
  {
   "cell_type": "code",
   "execution_count": null,
   "metadata": {
    "pycharm": {
     "name": "#%%\n"
    }
   },
   "outputs": [],
   "source": [
    "# 去除包含存在关系的订单\n",
    "cols = list(matrix_new.columns)\n",
    "d = {}\n",
    "used = []\n",
    "for j in range(len(matrix)):\n",
    "    matrix_new2 = matrix_new.copy()\n",
    "\n",
    "    if j in used: continue\n",
    "    for i in range(j + 1, len(matrix)):\n",
    "        if i in used: continue\n",
    "        matrix_new2[cols[i]] = matrix_new[cols[j]] - matrix_new[cols[i]]\n",
    "        if min(matrix_new2[cols[i]].tolist()) > -0.5:\n",
    "            d[cols[j]] = d.get(cols[j], []) + [cols[i]]\n",
    "            used.append(i)\n",
    "    print('\\r' + cols[j] + ' ' + str(len(d.get(cols[j], []))), end='')"
   ]
  },
  {
   "cell_type": "code",
   "execution_count": null,
   "metadata": {
    "pycharm": {
     "name": "#%%\n"
    }
   },
   "outputs": [],
   "source": [
    "val = list(d.values())\n",
    "val2 = [len(i) for i in val]\n",
    "print('被包含的订单数量：',sum(val2))"
   ]
  },
  {
   "cell_type": "code",
   "execution_count": null,
   "metadata": {
    "pycharm": {
     "name": "#%%\n"
    }
   },
   "outputs": [],
   "source": [
    "used = [cols[i] for i in used]\n",
    "\n",
    "with open('./data/father.txt', 'w') as f:\n",
    "    f.write(str(d.items()) + '\\n')\n",
    "    f.write(' '.join(used))"
   ]
  },
  {
   "cell_type": "code",
   "execution_count": 9,
   "metadata": {
    "pycharm": {
     "name": "#%%\n"
    }
   },
   "outputs": [],
   "source": [
    "d = dict([('D0148', ['D0614', 'D0126', 'D0026', 'D0243', 'D0212']), ('D0190', ['D0318', 'D0092', 'D0091', 'D0110']), ('D0031', ['D0003', 'D0188']), ('D0175', ['D0002']), ('D0145', ['D0800']), ('D0029', ['D0205', 'D0245']), ('D0006', ['D0260']), ('D0194', ['D0019', 'D0043']), ('D0133', ['D0042']), ('D0280', ['D0146']), ('D0085', ['D0119']), ('D0224', ['D0158']), ('D0244', ['D0514']), ('D0281', ['D0221']), ('D0261', ['D0414']), ('D0066', ['D0600']), ('D0178', ['D0140', 'D0078']), ('D0228', ['D0530']), ('D0226', ['D0169', 'D0162']), ('D0153', ['D0101']), ('D0027', ['D0215']), ('D0441', ['D0105', 'D0045', 'D0044', 'D0112']), ('D0176', ['D0106']), ('D0780', ['D0009']), ('D0711', ['D0152']), ('D0675', ['D0442']), ('D0466', ['D0840']), ('D0350', ['D0005']), ('D0147', ['D0142', 'D0166']), ('D0248', ['D0168']), ('D0672', ['D0122'])])\n"
   ]
  },
  {
   "cell_type": "code",
   "execution_count": 10,
   "metadata": {
    "pycharm": {
     "name": "#%%\n"
    }
   },
   "outputs": [],
   "source": [
    "used = []\n",
    "for key in d:\n",
    "    used.extend(d[key])\n",
    "matrix = matrix.drop(used, axis=0)"
   ]
  },
  {
   "cell_type": "code",
   "execution_count": null,
   "metadata": {
    "pycharm": {
     "name": "#%%\n"
    }
   },
   "outputs": [],
   "source": [
    "matrix.to_csv('data.csv')"
   ]
  },
  {
   "cell_type": "code",
   "execution_count": 11,
   "metadata": {
    "pycharm": {
     "name": "#%%\n"
    }
   },
   "outputs": [],
   "source": [
    "matrix = pd.read_csv('./data.csv', index_col=0)"
   ]
  },
  {
   "cell_type": "markdown",
   "metadata": {
    "pycharm": {
     "name": "#%% md\n"
    }
   },
   "source": [
    "## 每次从增加数量最少开始"
   ]
  },
  {
   "cell_type": "code",
   "execution_count": 24,
   "metadata": {
    "pycharm": {
     "name": "#%%\n"
    }
   },
   "outputs": [
    {
     "name": "stdout",
     "output_type": "stream",
     "text": [
      "23 21 19 21 21 17 16 15 16 16 14 14 13 14 13 12 12 13 12 13 12 12 12 11 13 11 12 11 12 10 11 12 10 11 11 9 10 10 11 9 10 9 9 9 10 9 9 9 8 10 10 9 10 9 9 8 8 8 8 7 8 8 8 8 7 8 7 7 7 7 7 7 8 6 7 6 6 6 6 6 6 5 6 5 "
     ]
    }
   ],
   "source": [
    "def is_zero(x):\n",
    "    if x < 0:\n",
    "        return x\n",
    "\n",
    "matrix = pd.read_csv('data.csv', index_col=0)\n",
    "classes = {}\n",
    "#for _ in range(2):\n",
    "while len(matrix.index) > 1:\n",
    "    # 转置\n",
    "    matrix_new = matrix.T\n",
    "    # 获取行标题\n",
    "    cols = list(matrix_new.columns)\n",
    "    index = cols[0]\n",
    "    d = {}\n",
    "    ans = []\n",
    "    # 对列进行遍历并用第一列作差\n",
    "    for i in range(1, matrix_new.shape[1]):\n",
    "        matrix_new[cols[i]] = matrix_new[index] - matrix_new[cols[i]]\n",
    "        #d[cols[i]] = [matrix_new2[cols[i]].tolist().count(-1),  matrix_new2[cols[i]] ]\n",
    "        ans.append(matrix_new[cols[i]].tolist().count(-1))\n",
    "    # 对第一列补充一个极大值\n",
    "    # print(len(ans))\n",
    "    ans = [200] + ans\n",
    "\n",
    "    # 转置回来继续求解\n",
    "    matrix_new = matrix_new.T\n",
    "    # 将所有列与第一列差值作为新列\n",
    "    matrix_new['cha'] = ans\n",
    "    # 使用差值为主键排序\n",
    "    matrix_new['sum'] = matrix['sum']\n",
    "\n",
    "\n",
    "    matrix_new = matrix_new.sort_values(by=['cha'])\n",
    "\n",
    "    #matrix_new = matrix_new.T\n",
    "    matrix_new.drop(['cha'], axis=1, inplace=True)\n",
    "    matrix_new = matrix_new.T\n",
    "\n",
    "    cols = list(matrix_new.columns)\n",
    "    rows = list(matrix_new.index)\n",
    "    # 获取用过的列标\n",
    "    used = []\n",
    "    ls = [0] * len(matrix_new)\n",
    "    for col in cols:\n",
    "        value = matrix_new[col].tolist()\n",
    "        # 取一个中间列表储存中间值，根据结果看是否要加入此列\n",
    "        k = [ls[kkk] + value[kkk] for kkk in range(len(ls))]\n",
    "        # 获取小于0值数量，即货物种类数量\n",
    "        # print(col, len(list(filter(is_zero, k))))\n",
    "        # print(matrix['sum'].loc[index])\n",
    "        if len(list(filter(is_zero, k))) < 200 - matrix['sum'].loc[index]:\n",
    "            ls = k\n",
    "            used.append(col)\n",
    "            classes[index] = classes.get(index, []) + [col]\n",
    "        else:\n",
    "            continue\n",
    "    if index not in used:\n",
    "        used += [index]\n",
    "    print(len(classes.get(index,[])),end = ' ')\n",
    "\n",
    "    matrix.drop(used, axis=0, inplace=True)"
   ]
  },
  {
   "cell_type": "markdown",
   "metadata": {
    "pycharm": {
     "name": "#%% md\n"
    }
   },
   "source": [
    "## 从相对差距最大开始"
   ]
  },
  {
   "cell_type": "code",
   "execution_count": null,
   "outputs": [],
   "source": [],
   "metadata": {
    "collapsed": false,
    "pycharm": {
     "name": "#%%\n"
    }
   }
  },
  {
   "cell_type": "code",
   "execution_count": 25,
   "metadata": {},
   "outputs": [
    {
     "name": "stdout",
     "output_type": "stream",
     "text": [
      "\n",
      "参数0.67，批量总数59：\n"
     ]
    }
   ],
   "source": [
    "\n",
    "def is_zero(x):\n",
    "    if x < 0:\n",
    "        return x\n",
    "\n",
    "weight = 0.6\n",
    "\n",
    "matrix = pd.read_csv('data.csv', index_col=0)\n",
    "classes = {}\n",
    "while len(matrix.index) > 1:\n",
    "    # 转置\n",
    "    matrix_new = matrix.T\n",
    "    # 获取行标题\n",
    "    cols = list(matrix_new.columns)\n",
    "    index = cols[0]\n",
    "    d = {}\n",
    "    ans = []\n",
    "    # 对列进行遍历并用第一列作差\n",
    "    for i in range(1, matrix_new.shape[1]):\n",
    "        matrix_new[cols[i]] = matrix_new[index] - matrix_new[cols[i]]\n",
    "        #d[cols[i]] = [matrix_new2[cols[i]].tolist().count(-1),  matrix_new2[cols[i]] ]\n",
    "        ans.append(matrix_new[cols[i]].tolist().count(-1))\n",
    "\n",
    "    # print(len(ans))\n",
    "    # 对第一列补充一个极大值\n",
    "    ans = [200] + ans\n",
    "\n",
    "    # 转置回来继续求解\n",
    "    matrix_new = matrix_new.T\n",
    "    # 将所有列与第一列差值作为新列\n",
    "    matrix_new['cha'] = ans\n",
    "    # 使用差值为主键排序\n",
    "    matrix_new['sum'] = matrix['sum']\n",
    "\n",
    "    matrix_new['cha'] = matrix_new['cha']/matrix_new['sum'] - weight * matrix_new['sum']/150\n",
    "    #matrix_new['sum'] = matrix_new['sum'].apply(lambda x:-x)\n",
    "    matrix_new = matrix_new.sort_values(by=['cha'])\n",
    "\n",
    "    #matrix_new = matrix_new.T\n",
    "    matrix_new.drop(['cha'], axis=1, inplace=True)\n",
    "    matrix_new = matrix_new.T\n",
    "\n",
    "    cols = list(matrix_new.columns)\n",
    "    rows = list(matrix_new.index)\n",
    "    # 获取用过的列标\n",
    "    used = []\n",
    "    ls = [0] * len(matrix_new)\n",
    "    for col in cols:\n",
    "        value = matrix_new[col].tolist()\n",
    "        # 取一个中间列表储存中间值，根据结果看是否要加入此列\n",
    "        k = [ls[kkk] + value[kkk] for kkk in range(len(ls))]\n",
    "        # 获取小于0值数量，即货物种类数量\n",
    "        #print(col, len(list(filter(is_zero, k))))\n",
    "        # print(matrix['sum'].loc[index])\n",
    "        if len(list(filter(is_zero, k))) < 200 - matrix['sum'].loc[index]:\n",
    "            ls = k\n",
    "            used.append(col)\n",
    "            classes[index] = classes.get(index, []) + [col]\n",
    "        else:\n",
    "            continue\n",
    "    if index not in used:\n",
    "        used += [index]\n",
    "    # print(len(classes.get(index,[])), end=' ')\n",
    "\n",
    "    matrix.drop(used, axis=0, inplace=True)\n",
    "print('\\n参数{}，批量总数{}：'.format(weight,len(classes)))"
   ]
  },
  {
   "cell_type": "code",
   "execution_count": null,
   "metadata": {},
   "outputs": [],
   "source": [
    "matrix = pd.read_csv('data.csv', index_col=0)\n",
    "print(matrix.shape)"
   ]
  },
  {
   "cell_type": "code",
   "execution_count": 26,
   "metadata": {
    "pycharm": {
     "name": "#%%\n"
    }
   },
   "outputs": [
    {
     "name": "stdout",
     "output_type": "stream",
     "text": [
      "59\n"
     ]
    }
   ],
   "source": [
    "print(len(classes))"
   ]
  },
  {
   "cell_type": "markdown",
   "metadata": {},
   "source": [
    "## 结果保存"
   ]
  },
  {
   "cell_type": "code",
   "execution_count": null,
   "metadata": {},
   "outputs": [],
   "source": [
    "print('批量总数：',len(classes))"
   ]
  },
  {
   "cell_type": "code",
   "execution_count": null,
   "metadata": {
    "pycharm": {
     "name": "#%%\n"
    }
   },
   "outputs": [],
   "source": [
    "d = dict([('D0148', ['D0614', 'D0126', 'D0026', 'D0212', 'D0243']), ('D0190', ['D0318', 'D0110', 'D0092', 'D0091']), ('D0031', ['D0188', 'D0003']), ('D0175', ['D0002']), ('D0145', ['D0800']), ('D0029', ['D0245', 'D0205']), ('D0006', ['D0260']), ('D0194', ['D0019', 'D0043']), ('D0133', ['D0042']), ('D0280', ['D0146']), ('D0085', ['D0119']), ('D0224', ['D0158']), ('D0244', ['D0514']), ('D0281', ['D0221']), ('D0261', ['D0414']), ('D0066', ['D0600']), ('D0178', ['D0140', 'D0078']), ('D0228', ['D0530']), ('D0226', ['D0162', 'D0169']), ('D0153', ['D0101']), ('D0027', ['D0215']), ('D0441', ['D0112', 'D0105', 'D0045', 'D0044']), ('D0176', ['D0106']), ('D0806', ['D0009']), ('D0711', ['D0152']), ('D0466', ['D0840']), ('D0675', ['D0442']), ('D0350', ['D0005']), ('D0147', ['D0142', 'D0166']), ('D0248', ['D0168']), ('D0672', ['D0122'])])\n",
    "\n",
    "for i in d:\n",
    "    for key in classes:\n",
    "        if i in classes[key]:\n",
    "            classes[key] = classes[key] + d[i]\n",
    "            break\n",
    "with open('./result59.csv','w') as f:\n",
    "    for i in classes.values():\n",
    "        f.write(','.join(i) + '\\n')"
   ]
  },
  {
   "cell_type": "code",
   "execution_count": null,
   "metadata": {},
   "outputs": [],
   "source": [
    "import collections \n",
    "nums = []\n",
    "\n",
    "for key in classes:\n",
    "    nums += classes[key]\n",
    "d = collections.Counter(nums)"
   ]
  },
  {
   "cell_type": "code",
   "execution_count": null,
   "metadata": {
    "pycharm": {
     "name": "#%%\n"
    }
   },
   "outputs": [],
   "source": [
    "import pandas as pd\n",
    "\n",
    "with open('result59.csv', 'r') as f:\n",
    "    lines = f.readlines()\n",
    "data = []\n",
    "for line in lines:\n",
    "\n",
    "    line = line.strip(\"'\\n \").split(',')\n",
    "    data.append(line)\n",
    "\n",
    "with open('result1.csv', 'w') as f:\n",
    "    for i in range(len(data)):\n",
    "\n",
    "        for j in range(len(data[i])):\n",
    "            # print(str(data[i][j]) + ',' + str(i) + '\\n')\n",
    "            f.write(str(data[i][j]) + ',' + str(i + 1) + '\\n')\n",
    "\n",
    "\n"
   ]
  }
 ],
 "metadata": {
  "kernelspec": {
   "display_name": "Python 3",
   "language": "python",
   "name": "python3"
  },
  "language_info": {
   "codemirror_mode": {
    "name": "ipython",
    "version": 3
   },
   "file_extension": ".py",
   "mimetype": "text/x-python",
   "name": "python",
   "nbconvert_exporter": "python",
   "pygments_lexer": "ipython3",
   "version": "3.8.5"
  },
  "toc": {
   "base_numbering": 1,
   "nav_menu": {},
   "number_sections": true,
   "sideBar": true,
   "skip_h1_title": false,
   "title_cell": "Table of Contents",
   "title_sidebar": "Contents",
   "toc_cell": false,
   "toc_position": {},
   "toc_section_display": true,
   "toc_window_display": true
  }
 },
 "nbformat": 4,
 "nbformat_minor": 1
}